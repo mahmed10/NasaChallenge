{
  "nbformat": 4,
  "nbformat_minor": 0,
  "metadata": {
    "colab": {
      "name": "NASA_data_analysis.ipynb",
      "provenance": [],
      "collapsed_sections": []
    },
    "kernelspec": {
      "name": "python3",
      "display_name": "Python 3"
    }
  },
  "cells": [
    {
      "cell_type": "markdown",
      "metadata": {
        "id": "1gZhs2M5fsfg"
      },
      "source": [
        "## Initial Setup"
      ]
    },
    {
      "cell_type": "code",
      "metadata": {
        "id": "Ey9k9pvRN1lE",
        "outputId": "50130da1-316f-4429-9413-44e3a513b611",
        "colab": {
          "base_uri": "https://localhost:8080/",
          "height": 87
        }
      },
      "source": [
        "import pandas as pd\n",
        "import numpy as np\n",
        "import matplotlib.pyplot as plt\n",
        "from sklearn.model_selection import train_test_split\n",
        "\n",
        "data = pd.read_csv('../../data/MODIS_C6_USA_contiguous_and_Hawaii_7d.csv')\n",
        "data.columns"
      ],
      "execution_count": 56,
      "outputs": [
        {
          "output_type": "execute_result",
          "data": {
            "text/plain": [
              "Index(['latitude', 'longitude', 'brightness', 'scan', 'track', 'acq_date',\n",
              "       'acq_time', 'satellite', 'confidence', 'version', 'bright_t31', 'frp',\n",
              "       'daynight'],\n",
              "      dtype='object')"
            ]
          },
          "metadata": {
            "tags": []
          },
          "execution_count": 56
        }
      ]
    },
    {
      "cell_type": "markdown",
      "metadata": {
        "id": "GxE9Xc6Yfn24"
      },
      "source": [
        "## Data Analysis"
      ]
    },
    {
      "cell_type": "code",
      "metadata": {
        "id": "HDTZD1vuP3xv",
        "outputId": "9b8e50fa-4151-4f0c-d82d-7876371b75f3",
        "colab": {
          "base_uri": "https://localhost:8080/",
          "height": 194
        }
      },
      "source": [
        "# Features X and Predictor Y Split\n",
        "\n",
        "Y = data['confidence']\n",
        "X = data.drop(['scan','satellite','track','version','acq_date',\n",
        "       'acq_time'],axis=1)\n",
        "\n",
        "print(data.head())\n",
        "print(X.shape)\n",
        "print(Y.shape)\n",
        "\n"
      ],
      "execution_count": 57,
      "outputs": [
        {
          "output_type": "stream",
          "text": [
            "   latitude  longitude  brightness  scan  ...  version bright_t31   frp daynight\n",
            "0    39.884    -78.246       300.3   1.4  ...   6.0NRT      284.0  10.4        N\n",
            "1    18.639    -96.216       308.0   1.4  ...   6.0NRT      291.3  10.4        N\n",
            "2    40.595   -105.702       303.1   1.9  ...   6.0NRT      278.5  23.4        N\n",
            "3    40.696   -105.729       322.6   1.9  ...   6.0NRT      283.9  54.7        N\n",
            "4    40.705   -105.718       321.3   1.9  ...   6.0NRT      282.8  49.1        N\n",
            "\n",
            "[5 rows x 13 columns]\n",
            "(8805, 7)\n",
            "(8805,)\n"
          ],
          "name": "stdout"
        }
      ]
    },
    {
      "cell_type": "code",
      "metadata": {
        "id": "dYrJVEo9Vuo2",
        "outputId": "8c726a09-fd80-4f01-fa35-dd17c41728df",
        "colab": {
          "base_uri": "https://localhost:8080/",
          "height": 421
        }
      },
      "source": [
        "# Data Analysis / Correlation Matrix of the dataset\n",
        "\n",
        "import pandas as pd\n",
        "import seaborn as sn\n",
        "import matplotlib.pyplot as plt\n",
        "\n",
        "corrMatrix = X.corr()\n",
        "print(corrMatrix)\n",
        "sn.heatmap(corrMatrix, annot=True)\n",
        "plt.tight_layout()\n",
        "plt.savefig('/content/drive/My Drive/NASA_Space_App/NasaChallenge-master/data/stats/corr_matrix.png', dpi=600)"
      ],
      "execution_count": 60,
      "outputs": [
        {
          "output_type": "stream",
          "text": [
            "            latitude  longitude  brightness  confidence  bright_t31       frp\n",
            "latitude    1.000000  -0.515848    0.187853    0.158099   -0.114797  0.106087\n",
            "longitude  -0.515848   1.000000   -0.150379   -0.156270   -0.124711 -0.018051\n",
            "brightness  0.187853  -0.150379    1.000000    0.573781    0.595725  0.584930\n",
            "confidence  0.158099  -0.156270    0.573781    1.000000    0.277855  0.222958\n",
            "bright_t31 -0.114797  -0.124711    0.595725    0.277855    1.000000  0.326094\n",
            "frp         0.106087  -0.018051    0.584930    0.222958    0.326094  1.000000\n"
          ],
          "name": "stdout"
        },
        {
          "output_type": "display_data",
          "data": {
            "image/png": "[encoded data removed]",
            "text/plain": [
              "<Figure size 432x288 with 2 Axes>"
            ]
          },
          "metadata": {
            "tags": [],
            "needs_background": "light"
          }
        }
      ]
    },
    {
      "cell_type": "markdown",
      "metadata": {
        "id": "dCd1KS0QfeO_"
      },
      "source": [
        "## Machine Learning Model"
      ]
    },
    {
      "cell_type": "code",
      "metadata": {
        "id": "Nn6aKp5KeQxU",
        "outputId": "3608e493-fb93-47b9-ff04-c8807627d4fd",
        "colab": {
          "base_uri": "https://localhost:8080/",
          "height": 52
        }
      },
      "source": [
        "#Train:Validation Split\n",
        "\n",
        "#Time-Period: \n",
        "\n",
        "x_train, x_valid, y_train, y_valid = train_test_split(X, Y,\n",
        "                                                    test_size=0.3,\n",
        "                                                    random_state=0,\n",
        "                                                    stratify=Y)\n",
        "\n"
      ],
      "execution_count": 53,
      "outputs": [
        {
          "output_type": "stream",
          "text": [
            "(6163, 5)\n",
            "(6163,)\n"
          ],
          "name": "stdout"
        }
      ]
    },
    {
      "cell_type": "code",
      "metadata": {
        "id": "PUI_4DkyjI-1",
        "outputId": "e9093a40-cdbe-479a-ce0f-ab14e5acdeaa",
        "colab": {
          "base_uri": "https://localhost:8080/",
          "height": 87
        }
      },
      "source": [
        "#verification\n",
        "\n",
        "print(x_train.shape)\n",
        "print(y_train.shape)\n",
        "print(x_valid.shape)\n",
        "print(y_valid.shape)"
      ],
      "execution_count": 54,
      "outputs": [
        {
          "output_type": "stream",
          "text": [
            "(6163, 5)\n",
            "(6163,)\n",
            "(2642, 5)\n",
            "(2642,)\n"
          ],
          "name": "stdout"
        }
      ]
    },
    {
      "cell_type": "code",
      "metadata": {
        "id": "5vSqt30bgvIJ",
        "outputId": "3b7eff5a-9bb1-4188-c851-c0c3bb6a5fcb",
        "colab": {
          "base_uri": "https://localhost:8080/",
          "height": 335
        }
      },
      "source": [
        "#Linear Regression\n",
        "from sklearn.linear_model import LinearRegression\n",
        "from sklearn.metrics import mean_squared_error, r2_score\n",
        "\n",
        "# Create linear regression object\n",
        "regr = LinearRegression()\n",
        "\n",
        "# Train the model using the training sets\n",
        "regr.fit(x_train, y_train)\n",
        "\n",
        "# Make predictions using the validation set\n",
        "y_pred = regr.predict(x_valid)\n",
        "\n",
        "# The coefficients\n",
        "print('Coefficients: \\n', regr.coef_)\n",
        "# The mean squared error\n",
        "print('Mean squared error: %.2f'\n",
        "      % mean_squared_error(y_valid, y_pred))\n",
        "# The coefficient of determination: 1 is perfect prediction\n",
        "print('Coefficient of determination: %.2f'\n",
        "      % r2_score(y_valid, y_pred))\n",
        "\n",
        "# Plot outputs\n",
        "plt.scatter(y_valid, y_pred, color='black')\n",
        "\n",
        "plt.show()\n",
        "\n"
      ],
      "execution_count": 63,
      "outputs": [
        {
          "output_type": "stream",
          "text": [
            "Coefficients: \n",
            " [-0.07474392 -0.14767007  0.61472052 -0.31103454 -0.0116055 ]\n",
            "Mean squared error: 401.46\n",
            "Coefficient of determination: 0.35\n"
          ],
          "name": "stdout"
        },
        {
          "output_type": "display_data",
          "data": {
            "image/png": "[encoded data removed]",
            "text/plain": [
              "<Figure size 432x288 with 1 Axes>"
            ]
          },
          "metadata": {
            "tags": [],
            "needs_background": "light"
          }
        }
      ]
    },
    {
      "cell_type": "code",
      "metadata": {
        "id": "F33yewCLf4xP",
        "outputId": "bbffdca2-cf99-4760-8066-b8704918db94",
        "colab": {
          "base_uri": "https://localhost:8080/",
          "height": 52
        }
      },
      "source": [
        "#Random Forest\n",
        "\n",
        "from sklearn.ensemble import RandomForestClassifier\n",
        "\n",
        "\n",
        "rf = RandomForestClassifier(n_estimators = 100, max_depth = 15)\n",
        "rf.fit(x_train, y_train.ravel())\n",
        "\n",
        "#Evaluating the model on train data\n",
        "y_hat = rf.predict(x_train)\n",
        "print ('Train Accuracy:',rf.score(x_train, y_train))\n",
        "\n",
        "#Testing the model on validation data\n",
        "y_pred = rf.predict(x_valid)\n",
        "print ('Validation Accuracy:',rf.score(x_valid, y_valid))"
      ],
      "execution_count": 42,
      "outputs": [
        {
          "output_type": "stream",
          "text": [
            "Train Accuracy: 0.9922115852669154\n",
            "Validation Accuracy: 0.334216502649508\n"
          ],
          "name": "stdout"
        }
      ]
    }
  ]
}